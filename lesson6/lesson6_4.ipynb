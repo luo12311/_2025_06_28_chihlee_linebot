{
 "cells": [
  {
   "cell_type": "code",
   "execution_count": 1,
   "id": "7638a964",
   "metadata": {},
   "outputs": [
    {
     "name": "stdout",
     "output_type": "stream",
     "text": [
      "===========AI回應==============\n"
     ]
    },
    {
     "data": {
      "text/markdown": [
       "想像一下，Python 函式就像一個 **指令或任務**。\n",
       "\n",
       "**簡單來說，Python 函式就是一個你想要做的事情，但程式碼中只有一個特定的方式來執行它。** \n",
       "\n",
       "可以把它想像成：\n",
       "\n",
       "*   **一個標準工作流程**：例如，你寫程式碼來計算加法，那麼這個加法函式就是這個工作流程。\n",
       "*   **一個功能**：例如，`計算運數` 函式就是計算一個數字的數量，它會重複執行你提供的指令。\n",
       "\n",
       "**重點是：**\n",
       "\n",
       "*   **可重複性：** 程式碼可以多次執行相同的指令，這就是「函式」的關鍵。\n",
       "*   **可調用性：** 你可以對函式進行變數和參數，讓它能根據不同的情況而變化。\n",
       "\n",
       "**簡單的例子：**\n",
       "\n",
       "*   `計算運數` 函式：\n",
       "    ```python\n",
       "    def 計算運數(n):\n",
       "        print(\"運數結果：\", n)\n",
       "\n",
       "    計算運數(5) # 程式碼會輸出：運數結果： 5\n",
       "    ```\n",
       "\n",
       "*   `計算平方` 函式：\n",
       "    ```python\n",
       "    def 計算平方(x):\n",
       "        print(\"x 的平方是：\", x * x)\n",
       "\n",
       "    計算平方(4) # 程式碼會輸出：x 的平方是： 16\n",
       "    ```\n",
       "\n",
       "總之，Python 函式就是程式碼中的「小片段」，讓程式可以自動執行特定任務，而無需寫出所有程式碼一次。\n",
       "\n",
       "希望這個解釋能幫助你理解 Python 函式！"
      ],
      "text/plain": [
       "<IPython.core.display.Markdown object>"
      ]
     },
     "metadata": {},
     "output_type": "display_data"
    }
   ],
   "source": [
    "import requests\n",
    "#import pprint\n",
    "from pprint import pprint\n",
    "from IPython.display import Markdown, display\n",
    "\n",
    "def generate_with_ollama(prompt:str)->None:\n",
    "    url = \"http://localhost:11434/api/generate\"\n",
    "    payload = {\n",
    "        \"model\":\"gemma3:1b\",\n",
    "        \"prompt\":prompt,\n",
    "        \"stream\":False\n",
    "    }\n",
    "    response = requests.post(url,json=payload)\n",
    "    result = response.json()\n",
    "    #print(type(result))\n",
    "    #pprint(result)\n",
    "    print(\"===========AI回應==============\")\n",
    "    display(Markdown(result['response']))\n",
    "\n",
    "generate_with_ollama(\"請用簡單的方式解釋什麼是Python的函式？\")"
   ]
  }
 ],
 "metadata": {
  "kernelspec": {
   "display_name": "line_bot",
   "language": "python",
   "name": "python3"
  },
  "language_info": {
   "codemirror_mode": {
    "name": "ipython",
    "version": 3
   },
   "file_extension": ".py",
   "mimetype": "text/x-python",
   "name": "python",
   "nbconvert_exporter": "python",
   "pygments_lexer": "ipython3",
   "version": "3.12.11"
  }
 },
 "nbformat": 4,
 "nbformat_minor": 5
}
