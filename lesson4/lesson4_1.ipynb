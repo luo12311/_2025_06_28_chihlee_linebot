{
 "cells": [
  {
   "cell_type": "code",
   "execution_count": null,
   "id": "3775efe6",
   "metadata": {},
   "outputs": [
    {
     "name": "stdout",
     "output_type": "stream",
     "text": [
      "中文 英文 5.漢堡 薯條 5.\n"
     ]
    }
   ],
   "source": [
    "print(\"中文\", \"英文\", 5, end=\".\")\n",
    "print(\"漢堡\", \"薯條\", 5, end=\".\\n\")\n"
   ]
  },
  {
   "cell_type": "code",
   "execution_count": 7,
   "id": "82ecf2f6",
   "metadata": {},
   "outputs": [
    {
     "name": "stdout",
     "output_type": "stream",
     "text": [
      "建立變數\n",
      "變數內容:Python\n",
      "變數類型:-<class 'str'>\n",
      "變數長度:*6\n"
     ]
    }
   ],
   "source": [
    "print(\"建立變數\")\n",
    "name = \"Python\"\n",
    "print(\"變數內容:\", name, sep=\"\")\n",
    "print(\"變數類型:\", type(name), sep=\"-\")\n",
    "print(\"變數長度:\", len(name), sep=\"*\")"
   ]
  },
  {
   "cell_type": "code",
   "execution_count": 8,
   "id": "2e7970aa",
   "metadata": {},
   "outputs": [
    {
     "name": "stdout",
     "output_type": "stream",
     "text": [
      "1 | 5.0 | Hello | True.\n"
     ]
    }
   ],
   "source": [
    "print(1, 5.0, \"Hello\", True, end=\".\\n\", sep=\" | \")"
   ]
  },
  {
   "cell_type": "code",
   "execution_count": null,
   "id": "066db984",
   "metadata": {},
   "outputs": [],
   "source": [
    "print(\"中文\", type(\"英文\"), type(5), end=\".\", sep=\" | \")"
   ]
  }
 ],
 "metadata": {
  "kernelspec": {
   "display_name": "line_bot",
   "language": "python",
   "name": "python3"
  },
  "language_info": {
   "codemirror_mode": {
    "name": "ipython",
    "version": 3
   },
   "file_extension": ".py",
   "mimetype": "text/x-python",
   "name": "python",
   "nbconvert_exporter": "python",
   "pygments_lexer": "ipython3",
   "version": "3.12.11"
  }
 },
 "nbformat": 4,
 "nbformat_minor": 5
}
