{
 "cells": [
  {
   "cell_type": "code",
   "execution_count": null,
   "id": "38a33525",
   "metadata": {},
   "outputs": [],
   "source": [
    "import requests\n",
    "\n",
    "def chat_with_ollama(prompt: str):\n",
    "    url = \"http://localhost:11434/api/generate\"\n",
    "    payload = {\n",
    "        \"model\": \"gemma3:1b\",\n",
    "        \"prompt\": prompt,\n",
    "        \"stream\": False,\n",
    "        \"options\": { #參考說明1\n",
    "            \"temperature\": 0.7,\n",
    "            \"top_p\": 0.9,\n",
    "            \"top_k\": 50,\n",
    "        },\n",
    "        \"max_tokens\": 100,\n",
    "        \"format\": \"json\",\n",
    "    }\n",
    "\n",
    "    response = requests.post(url, json=payload)\n",
    "    result = response.json()\n",
    "    print(\"💬 AI 回應：\")\n",
    "    # Print the whole result for debugging\n",
    "    print(result)\n",
    "    # Try to print the 'response' key if it exists, otherwise print possible keys\n",
    "    if \"response\" in result:\n",
    "        print(result[\"response\"])\n",
    "    elif \"message\" in result:\n",
    "        print(result[\"message\"])\n",
    "    elif \"content\" in result:\n",
    "        print(result[\"content\"])\n",
    "    else:\n",
    "        print(\"No expected key found in response. Available keys:\", result.keys())\n",
    "\n",
    "#範例輸入\n",
    "chat_with_ollama(\"請用簡單的方式解釋什麼是Python的函式？\")"
   ]
  },
  {
   "cell_type": "code",
   "execution_count": null,
   "id": "e9b7db92",
   "metadata": {},
   "outputs": [],
   "source": [
    "import requests\n",
    "\n",
    "url = \"https://www.google.com\"\n",
    "# dresponse = requests.get(url)\n",
    "requests.get(url = url)\n"
   ]
  },
  {
   "cell_type": "code",
   "execution_count": null,
   "id": "912f75fa",
   "metadata": {},
   "outputs": [],
   "source": [
    "\n",
    "import requests\n",
    "\n",
    "url = \"http://localhost:11434/api/generate\"\n",
    "response = requests.post(url, json={\n",
    "    \"model\": \"gemma3:1b\",\n",
    "    \"prompt\": \"請用簡單的方式解釋什麼是Python的函式？\",\n",
    "    \"stream\": False\n",
    "})\n",
    "\n",
    "if response.status_code == 200:\n",
    "    print(\"成功\")\n",
    "    print(response.json())\n",
    "else:\n",
    "    print(\"失敗\")\n",
    "    print(\"原因\", response.status_code)\n",
    "\n",
    "\n"
   ]
  },
  {
   "cell_type": "code",
   "execution_count": null,
   "id": "558204e0",
   "metadata": {},
   "outputs": [],
   "source": [
    "\n",
    "import requests\n",
    "from ipython.dis import display, Mackdown\n",
    "\n",
    "url = \"http://localhost:11434/api/generate\"\n",
    "response = requests.post(url, json={\n",
    "    \"model\": \"gemma3:1b\",\n",
    "    \"prompt\": \"請用簡單的方式解釋什麼是Python的函式？\",\n",
    "    \"stream\": False\n",
    "})\n",
    "\n",
    "if response.status_code == 200:\n",
    "    print(\"成功\")\n",
    "    print(response.json())\n",
    "else:\n",
    "    print(\"失敗\")\n",
    "    print(\"原因\", response.status_code)\n",
    "\n",
    "\n",
    "\n"
   ]
  }
 ],
 "metadata": {
  "kernelspec": {
   "display_name": "line_bot",
   "language": "python",
   "name": "python3"
  },
  "language_info": {
   "codemirror_mode": {
    "name": "ipython",
    "version": 3
   },
   "file_extension": ".py",
   "mimetype": "text/x-python",
   "name": "python",
   "nbconvert_exporter": "python",
   "pygments_lexer": "ipython3",
   "version": "3.12.11"
  }
 },
 "nbformat": 4,
 "nbformat_minor": 5
}
